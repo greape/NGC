{
 "cells": [
  {
   "cell_type": "markdown",
   "metadata": {},
   "source": [
    "# Tugas 1 **Number Of Word**\n",
    "Create a function that count the number of word in a sentence.\n",
    "\n",
    "Instruction:\n",
    "\n",
    "1. Create function called `number_of_word`.\n",
    "2. This function takes 1 input, `sentence`.\n",
    "3. Inside this function, you can utilize `.split()` method to split the sentence into list of word(s).\n",
    "4. Also, `len()` function to count the element inside a list.\n",
    "5. Return the number of word from the sentence.\n",
    "\n",
    "Example:\n",
    "- Input: number_of_word(sentence = ’Hello World!’)\n",
    "- Output: 2\n",
    "\n",
    "- Input: number_of_word(sentence = ’Once Upon a Time in a faraway land’)\n",
    "- Output: 84\n"
   ]
  },
  {
   "cell_type": "code",
   "execution_count": 48,
   "metadata": {},
   "outputs": [
    {
     "name": "stdout",
     "output_type": "stream",
     "text": [
      "4\n"
     ]
    }
   ],
   "source": [
    "def number_of_word(sentence) :\n",
    "    print(len(sentence.split()))\n",
    "\n",
    "sentence = input(\"masukkan kalimat anda\")\n",
    "number_of_word(sentence)\n"
   ]
  },
  {
   "cell_type": "markdown",
   "metadata": {},
   "source": [
    "# Tugas 2 Find Multiple\n",
    "\n",
    "Create a function that will get list of number(s) from a certain range that multiples of given number.\n",
    "Instruction:\n",
    "1. Create function called `find_multiples`.\n",
    "2. This function takes 3 input: `start_range`, `end_range`, and `multiple`.\n",
    "3. From every number within the given range, check if that number is the mutliples of `multiple`.\n",
    "4. Return list of the possible multiple number(s).\n",
    "\n",
    "Example:\n",
    "- Input: find_multiple(start_range= 1, end_range= 20, multiple= 5)\n",
    "- Output: [5, 10, 15, 20]\n",
    "\n",
    "- Input: find_multiple(start_range= 1, end_range= 50, multiple= 10)\n",
    "- Output: [10, 20, 30, 40, 50]"
   ]
  },
  {
   "cell_type": "code",
   "execution_count": 53,
   "metadata": {},
   "outputs": [
    {
     "name": "stdout",
     "output_type": "stream",
     "text": [
      "5 10 15 20 "
     ]
    }
   ],
   "source": [
    "def find_multiple(start_range, end_range, multiple) :\n",
    "    for i in range(start_range, end_range + 1) :\n",
    "        if i % multiple == 0 :\n",
    "            print(i, end = \" \")\n",
    "\n",
    "start = int(input(\"masukkan start angka\"))\n",
    "end = int(input(\"masukkan angka terakhir\"))\n",
    "multiple = int(input(\"masukkan kelipatan\"))\n",
    "find_multiple(start , end, multiple)"
   ]
  },
  {
   "cell_type": "markdown",
   "metadata": {},
   "source": [
    "# Tugas 3 Grade Converter\n",
    "Create a function that will convert student’s grade to GPA.\n",
    "Instruction:\n",
    "1. Create function called `Grade_Converter`.\n",
    "2. This function takes input: `convert_to` and n-paired of student(s) name with its respective score.\n",
    "3. Input argument for `convert_to` is either `letter_grade` or `gpa`.\n",
    "4. You can utilize **kwargs input argument to generate n-length paired of student(s) name with its respective score (Dictionary).\n",
    "5. This function will return dictionary of student’s name along with converted Letter Grade or GPA, depending on user input in `convert_to` parameter. \n",
    "\n",
    "|**score**|**Letter Grade**|**GPA 4.0 Scale**|\n",
    "|:-------:|:--------------:|:---------------:|\n",
    "|85 - 100|A|4|\n",
    "|70 - 84.99|B|3|\n",
    "|60 - 69.99|C|2.5|\n",
    "|50 - 59.99|D|2|\n",
    "|40 - 49.99|E|1.5|\n",
    "|0 - 39.99|F|1|"
   ]
  },
  {
   "cell_type": "code",
   "execution_count": 28,
   "metadata": {},
   "outputs": [
    {
     "name": "stdout",
     "output_type": "stream",
     "text": [
      "4\n"
     ]
    }
   ],
   "source": [
    "letter_score = {\n",
    "    'A' : [85, 100],\n",
    "    'B' : [70, 84.99],\n",
    "    'C' : [60, 69.99],\n",
    "    'D' : [50, 59.99],\n",
    "    'E' : [40, 49,99],\n",
    "    'F' : [0, 39.99]\n",
    "}\n",
    "gpa_score = {\n",
    "    '4' : [85, 100],\n",
    "    '3' : [70, 84.99],\n",
    "    '2.5' : [60, 69.99],\n",
    "    '2' : [50, 59.99],\n",
    "    '1.5' : [40, 49,99],\n",
    "    '1' : [0, 39.99]\n",
    "}\n",
    "\n",
    "def grade_converter(convert_to, kwargs):\n",
    "    if convert_to == \"gpa\" :\n",
    "        for letter, bounds in gpa_score.items():\n",
    "            if kwargs >= bounds[0] and kwargs <= bounds[1]:\n",
    "                print(letter)\n",
    "    else:\n",
    "        for letter, bounds in letter_score.items():\n",
    "            if kwargs >= bounds[0] and kwargs.values() <= bounds[1]:\n",
    "                print(letter)        \n",
    "\n",
    "grade_converter(\"gpa\", 100)"
   ]
  },
  {
   "cell_type": "markdown",
   "metadata": {},
   "source": [
    "# Tugas 4\n",
    "create a function that will return the value of n-th fibonacci number.\n",
    "Instruction:\n",
    "1. The function will take 1 input parameter, n, represents the asked number from our fibonacci sequence index.\n",
    "2. The fibonacci sequence will start with the value of 0 and 1.\n",
    "3. This function will return the n-th value from fibonacci sequence\n",
    "\n",
    "|Fibo_Seq|0|1|1|2|3|5|8|13|21|34|55|...|\n",
    "|:------:|:-:|:-:|:-:|:-:|:-:|:-:|:-:|:-:|:-:|:-:|:-:|:-:|\n",
    "|*n*-th|0|1|2|3|4|5|6|7|8|9|10|...|\n",
    "\n"
   ]
  },
  {
   "cell_type": "code",
   "execution_count": null,
   "metadata": {},
   "outputs": [],
   "source": []
  },
  {
   "cell_type": "code",
   "execution_count": 61,
   "metadata": {},
   "outputs": [
    {
     "name": "stdout",
     "output_type": "stream",
     "text": [
      "55\n"
     ]
    }
   ],
   "source": [
    "def fibonacci(n):\n",
    "    a = 0\n",
    "    b = 1\n",
    "    for i in range (n-1):\n",
    "        c = a + b\n",
    "        a = b\n",
    "        b = c\n",
    "    print(b)\n",
    "\n",
    "fibonacci(10)"
   ]
  }
 ],
 "metadata": {
  "kernelspec": {
   "display_name": "Python 3",
   "language": "python",
   "name": "python3"
  },
  "language_info": {
   "codemirror_mode": {
    "name": "ipython",
    "version": 3
   },
   "file_extension": ".py",
   "mimetype": "text/x-python",
   "name": "python",
   "nbconvert_exporter": "python",
   "pygments_lexer": "ipython3",
   "version": "3.12.0"
  }
 },
 "nbformat": 4,
 "nbformat_minor": 2
}
