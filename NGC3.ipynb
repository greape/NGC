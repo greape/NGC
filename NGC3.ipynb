{
 "cells": [
  {
   "cell_type": "code",
   "execution_count": 28,
   "metadata": {},
   "outputs": [
    {
     "name": "stdout",
     "output_type": "stream",
     "text": [
      "[{'title': 'Harry Potter', 'author': 'Rowling', 'id': '2313123'}, {'title': 'The Hobbit', 'author': 'Tolkien', 'id': '1234567'}, {'title': 'The Catcher in the Rye', 'author': 'Salinger', 'id': '9876543'}]\n"
     ]
    }
   ],
   "source": [
    "class BookCatalog:\n",
    "    def __init__(self):\n",
    "        self.book_list = []\n",
    "\n",
    "    def add_book(self, title, author, id):\n",
    "        book = {\"title\": title, \"author\": author, \"id\": id}\n",
    "        self.book_list.append(book)\n",
    "\n",
    "    def remove_book(self, title, author, id):\n",
    "        book_to_remove = {\"title\": title, \"author\": author, \"id\": id}\n",
    "\n",
    "        for book in self.book_list:\n",
    "            if book == book_to_remove:\n",
    "                self.book_list.remove(book)\n",
    "                print(f\"Removed book: Title: {book['title']}, Author: {book['author']}, ID: {book['id']}\")\n",
    "                break\n",
    "        else:\n",
    "            print(\"Book not found in the catalog.\")\n",
    "\n",
    "    def find_book(self, title, author, id):\n",
    "        book_to_find = {\"title\": title, \"author\": author, \"id\": id}\n",
    "        for book in self.book_list:\n",
    "            if book == book_to_find:\n",
    "                print(f\"Book found in catalog: Title: {book['title']}, Author: {book['author']}, ID: {book['id']}\")\n",
    "                break\n",
    "        else:\n",
    "            print(\"Book not found in the catalog.\")\n",
    "\n",
    "    def search_by_author(self, author):\n",
    "        matching_books = []\n",
    "        for book in self.book_list:\n",
    "            if book[\"author\"] == author:\n",
    "                matching_books.append(book)\n",
    "        if matching_books:\n",
    "            print(f\"Book by author {author}:\")\n",
    "            for book in matching_books:\n",
    "                print(f\"Title: {book['title']}, ID: {book['id']}\")\n",
    "        else:\n",
    "            print(f\"No books by author {author} found in the catalog.\")\n",
    "    \n",
    "    def search_by_title(self, title):\n",
    "        matching_books = []\n",
    "        for book in self.book_list:\n",
    "            if book[\"title\"] == title:\n",
    "                matching_books.append(book)\n",
    "        if matching_books:\n",
    "            print(f\"Book with title {title}:\")\n",
    "            for book in matching_books:\n",
    "                print(f\"Author: {book['author']}, ID: {book['id']}\")\n",
    "        else:\n",
    "            print(f\"No books with title {title} found in the catalog.\")\n",
    "\n",
    "    def display_books(self):\n",
    "        for book in self.book_list:\n",
    "            print(f\"Title: {book['title']}, Author: {book['author']}, ID: {book['id']}\")\n",
    "    \n",
    "    def asd(self):\n",
    "        print(self.book_list)\n",
    "\n",
    "\n",
    "catalog = BookCatalog()\n",
    "\n",
    "catalog.add_book(\"Harry Potter\", \"Rowling\", \"2313123\")\n",
    "catalog.add_book(\"The Hobbit\", \"Tolkien\", \"1234567\")\n",
    "catalog.add_book(\"The Catcher in the Rye\", \"Salinger\", \"9876543\")\n",
    "\n",
    "catalog.asd()\n",
    "\n"
   ]
  },
  {
   "cell_type": "code",
   "execution_count": 11,
   "metadata": {},
   "outputs": [
    {
     "name": "stdout",
     "output_type": "stream",
     "text": [
      "book exist in catalog : Title: Harry Potter, Author: Rowling, ID: 2313123\n"
     ]
    }
   ],
   "source": [
    "catalog.find_book(\"Harry Potter\", \"Rowling\", \"2313123\")"
   ]
  },
  {
   "cell_type": "code",
   "execution_count": null,
   "metadata": {},
   "outputs": [],
   "source": []
  }
 ],
 "metadata": {
  "kernelspec": {
   "display_name": "Python 3",
   "language": "python",
   "name": "python3"
  },
  "language_info": {
   "codemirror_mode": {
    "name": "ipython",
    "version": 3
   },
   "file_extension": ".py",
   "mimetype": "text/x-python",
   "name": "python",
   "nbconvert_exporter": "python",
   "pygments_lexer": "ipython3",
   "version": "3.12.0"
  }
 },
 "nbformat": 4,
 "nbformat_minor": 2
}
